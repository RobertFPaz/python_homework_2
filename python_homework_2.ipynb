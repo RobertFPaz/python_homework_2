{
 "cells": [
  {
   "cell_type": "code",
   "execution_count": 13,
   "id": "9621e192",
   "metadata": {},
   "outputs": [
    {
     "data": {
      "text/plain": [
       "[1, 5, 8, 9]"
      ]
     },
     "execution_count": 13,
     "metadata": {},
     "output_type": "execute_result"
    }
   ],
   "source": [
    "#Given a list as a parameter,\n",
    "#write a function that returns a list of numbers that are less than ten.\n",
    "def below_ten(list):\n",
    "    return [num for num in list if num < 10]\n",
    "below_ten([1,11,14,5,8,9])\n"
   ]
  },
  {
   "cell_type": "code",
   "execution_count": 17,
   "id": "db5a5d47",
   "metadata": {},
   "outputs": [
    {
     "data": {
      "text/plain": [
       "[1, 2, 3, 3, 4, 4, 5, 5, 6, 6, 7, 8, 10]"
      ]
     },
     "execution_count": 17,
     "metadata": {},
     "output_type": "execute_result"
    }
   ],
   "source": [
    "#Write a function that takes in two lists and returns the two lists merged together and sorted\n",
    "#Hint: You can use the .sort() method\n",
    "def merge(list_1, list_2):\n",
    "    merged_list = list_1 + list_2\n",
    "    merged_list.sort()\n",
    "    return merged_list\n",
    "merge([1,2,3,4,5,6],[3,4,5,6,7,8,10])"
   ]
  },
  {
   "cell_type": "code",
   "execution_count": null,
   "id": "ab1b0b55",
   "metadata": {},
   "outputs": [],
   "source": []
  },
  {
   "cell_type": "code",
   "execution_count": null,
   "id": "d130155e",
   "metadata": {},
   "outputs": [],
   "source": []
  }
 ],
 "metadata": {
  "kernelspec": {
   "display_name": "Python 3 (ipykernel)",
   "language": "python",
   "name": "python3"
  },
  "language_info": {
   "codemirror_mode": {
    "name": "ipython",
    "version": 3
   },
   "file_extension": ".py",
   "mimetype": "text/x-python",
   "name": "python",
   "nbconvert_exporter": "python",
   "pygments_lexer": "ipython3",
   "version": "3.9.12"
  }
 },
 "nbformat": 4,
 "nbformat_minor": 5
}
